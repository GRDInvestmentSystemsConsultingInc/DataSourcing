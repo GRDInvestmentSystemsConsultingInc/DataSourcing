{
 "cells": [
  {
   "cell_type": "code",
   "execution_count": 1,
   "id": "2fce2b86-40e5-4dd2-863f-28d145ea970f",
   "metadata": {},
   "outputs": [],
   "source": [
    "# Import libraries\n",
    "import pandas as pd\n",
    "from pathlib import Path\n",
    "import json\n",
    "from full_fred.fred import Fred"
   ]
  },
  {
   "cell_type": "code",
   "execution_count": 2,
   "id": "799f8eea-2507-4252-ba3d-7987a207d91b",
   "metadata": {},
   "outputs": [
    {
     "data": {
      "text/html": [
       "<div>\n",
       "<style scoped>\n",
       "    .dataframe tbody tr th:only-of-type {\n",
       "        vertical-align: middle;\n",
       "    }\n",
       "\n",
       "    .dataframe tbody tr th {\n",
       "        vertical-align: top;\n",
       "    }\n",
       "\n",
       "    .dataframe thead th {\n",
       "        text-align: right;\n",
       "    }\n",
       "</style>\n",
       "<table border=\"1\" class=\"dataframe\">\n",
       "  <thead>\n",
       "    <tr style=\"text-align: right;\">\n",
       "      <th></th>\n",
       "      <th>name</th>\n",
       "      <th>parent_id</th>\n",
       "    </tr>\n",
       "    <tr>\n",
       "      <th>child_id</th>\n",
       "      <th></th>\n",
       "      <th></th>\n",
       "    </tr>\n",
       "  </thead>\n",
       "  <tbody>\n",
       "    <tr>\n",
       "      <th>32991</th>\n",
       "      <td>Money Banking &amp; Finance</td>\n",
       "      <td>0</td>\n",
       "    </tr>\n",
       "    <tr>\n",
       "      <th>22</th>\n",
       "      <td>Interest Rates</td>\n",
       "      <td>32991</td>\n",
       "    </tr>\n",
       "    <tr>\n",
       "      <th>34009</th>\n",
       "      <td>AMERIBOR Benchmark Rates</td>\n",
       "      <td>22</td>\n",
       "    </tr>\n",
       "    <tr>\n",
       "      <th>33058</th>\n",
       "      <td>Automobile Loan Rates</td>\n",
       "      <td>22</td>\n",
       "    </tr>\n",
       "    <tr>\n",
       "      <th>51</th>\n",
       "      <td>Bankers Acceptance Rate</td>\n",
       "      <td>22</td>\n",
       "    </tr>\n",
       "    <tr>\n",
       "      <th>121</th>\n",
       "      <td>Certificates of Deposit</td>\n",
       "      <td>22</td>\n",
       "    </tr>\n",
       "    <tr>\n",
       "      <th>120</th>\n",
       "      <td>Commercial Paper</td>\n",
       "      <td>22</td>\n",
       "    </tr>\n",
       "    <tr>\n",
       "      <th>32348</th>\n",
       "      <td>Corporate Bonds</td>\n",
       "      <td>22</td>\n",
       "    </tr>\n",
       "    <tr>\n",
       "      <th>33059</th>\n",
       "      <td>Credit Card Loan Rates</td>\n",
       "      <td>22</td>\n",
       "    </tr>\n",
       "    <tr>\n",
       "      <th>34005</th>\n",
       "      <td>EONIA Rates</td>\n",
       "      <td>22</td>\n",
       "    </tr>\n",
       "    <tr>\n",
       "      <th>34007</th>\n",
       "      <td>Euro Short-Term Rate</td>\n",
       "      <td>22</td>\n",
       "    </tr>\n",
       "    <tr>\n",
       "      <th>32298</th>\n",
       "      <td>Eurodollar Deposits</td>\n",
       "      <td>22</td>\n",
       "    </tr>\n",
       "    <tr>\n",
       "      <th>118</th>\n",
       "      <td>FRB Rates - discount fed funds primary credit</td>\n",
       "      <td>22</td>\n",
       "    </tr>\n",
       "    <tr>\n",
       "      <th>33056</th>\n",
       "      <td>Interest Checking Accounts</td>\n",
       "      <td>22</td>\n",
       "    </tr>\n",
       "    <tr>\n",
       "      <th>33446</th>\n",
       "      <td>Interest Rate Spreads</td>\n",
       "      <td>22</td>\n",
       "    </tr>\n",
       "    <tr>\n",
       "      <th>32299</th>\n",
       "      <td>Interest Rate Swaps</td>\n",
       "      <td>22</td>\n",
       "    </tr>\n",
       "    <tr>\n",
       "      <th>32995</th>\n",
       "      <td>Long-Term Securities</td>\n",
       "      <td>22</td>\n",
       "    </tr>\n",
       "    <tr>\n",
       "      <th>33055</th>\n",
       "      <td>Money Market Accounts</td>\n",
       "      <td>22</td>\n",
       "    </tr>\n",
       "    <tr>\n",
       "      <th>114</th>\n",
       "      <td>Mortgage Rates</td>\n",
       "      <td>22</td>\n",
       "    </tr>\n",
       "    <tr>\n",
       "      <th>33057</th>\n",
       "      <td>Personal Loan Rates</td>\n",
       "      <td>22</td>\n",
       "    </tr>\n",
       "    <tr>\n",
       "      <th>117</th>\n",
       "      <td>Prime Bank Loan Rate</td>\n",
       "      <td>22</td>\n",
       "    </tr>\n",
       "    <tr>\n",
       "      <th>33491</th>\n",
       "      <td>Saving Accounts</td>\n",
       "      <td>22</td>\n",
       "    </tr>\n",
       "    <tr>\n",
       "      <th>34003</th>\n",
       "      <td>SONIA Rates</td>\n",
       "      <td>22</td>\n",
       "    </tr>\n",
       "    <tr>\n",
       "      <th>116</th>\n",
       "      <td>Treasury Bills</td>\n",
       "      <td>22</td>\n",
       "    </tr>\n",
       "    <tr>\n",
       "      <th>115</th>\n",
       "      <td>Treasury Constant Maturity</td>\n",
       "      <td>22</td>\n",
       "    </tr>\n",
       "  </tbody>\n",
       "</table>\n",
       "</div>"
      ],
      "text/plain": [
       "                                                   name  parent_id\n",
       "child_id                                                          \n",
       "32991                           Money Banking & Finance          0\n",
       "22                                       Interest Rates      32991\n",
       "34009                          AMERIBOR Benchmark Rates         22\n",
       "33058                             Automobile Loan Rates         22\n",
       "51                              Bankers Acceptance Rate         22\n",
       "121                             Certificates of Deposit         22\n",
       "120                                    Commercial Paper         22\n",
       "32348                                   Corporate Bonds         22\n",
       "33059                            Credit Card Loan Rates         22\n",
       "34005                                       EONIA Rates         22\n",
       "34007                              Euro Short-Term Rate         22\n",
       "32298                               Eurodollar Deposits         22\n",
       "118       FRB Rates - discount fed funds primary credit         22\n",
       "33056                        Interest Checking Accounts         22\n",
       "33446                             Interest Rate Spreads         22\n",
       "32299                               Interest Rate Swaps         22\n",
       "32995                              Long-Term Securities         22\n",
       "33055                             Money Market Accounts         22\n",
       "114                                      Mortgage Rates         22\n",
       "33057                               Personal Loan Rates         22\n",
       "117                                Prime Bank Loan Rate         22\n",
       "33491                                   Saving Accounts         22\n",
       "34003                                       SONIA Rates         22\n",
       "116                                      Treasury Bills         22\n",
       "115                          Treasury Constant Maturity         22"
      ]
     },
     "execution_count": 2,
     "metadata": {},
     "output_type": "execute_result"
    }
   ],
   "source": [
    "# Construct a data frame for the parent-child relationships\n",
    "# This source file was constructed via other code\n",
    "# Using child_id = 115 in further code examples\n",
    "\n",
    "fl_path = Path('AutoOutputFiles/Category32991/config_files/relationships.csv')\n",
    "df_category_32991 = pd.read_csv(fl_path, index_col='child_id')\n",
    "df_category_32991.head(25)"
   ]
  },
  {
   "cell_type": "code",
   "execution_count": 3,
   "id": "b0a9799b-d129-46f5-8c5c-f89a2448b889",
   "metadata": {},
   "outputs": [],
   "source": [
    "fl_nm = 'AutoOutputFiles/Category32991/fred_master_dictionary_32991.json'\n",
    "fl_path = Path(fl_nm)\n",
    "\n",
    "with open(fl_path) as json_file:\n",
    "    category_32991_master_dict = json.load(json_file)"
   ]
  },
  {
   "cell_type": "code",
   "execution_count": 4,
   "id": "69c9bb77-6208-4a6f-adfc-3f894296e38d",
   "metadata": {},
   "outputs": [
    {
     "data": {
      "text/plain": [
       "dict"
      ]
     },
     "execution_count": 4,
     "metadata": {},
     "output_type": "execute_result"
    }
   ],
   "source": [
    "type(category_32991_master_dict)"
   ]
  },
  {
   "cell_type": "code",
   "execution_count": 5,
   "id": "99ff30b0-3329-41fc-a0f7-194ce0819fe8",
   "metadata": {},
   "outputs": [
    {
     "name": "stdout",
     "output_type": "stream",
     "text": [
      "series_id\n",
      "series_title\n",
      "series_frequency\n",
      "series_units\n",
      "series_seasonal_adjustment\n",
      "series_observation_start\n",
      "series_notes\n"
     ]
    }
   ],
   "source": [
    "# Available dictionary keys\n",
    "for keys in category_32991_master_dict.keys():\n",
    "    print(keys)"
   ]
  },
  {
   "cell_type": "code",
   "execution_count": 6,
   "id": "37f304d2-938c-4b43-b902-5b00a1cffb22",
   "metadata": {},
   "outputs": [],
   "source": [
    "# All series data names/titles\n",
    "#category_32991_master_dict['series_title']"
   ]
  },
  {
   "cell_type": "code",
   "execution_count": 7,
   "id": "53d318f8-2225-4a35-9c57-32dd5f4dc75e",
   "metadata": {},
   "outputs": [
    {
     "data": {
      "text/plain": [
       "['Market Yield on U.S. Treasury Securities at 10-Year Constant Maturity, Inflation-Indexed',\n",
       " 'Market Yield on U.S. Treasury Securities at 20-Year Constant Maturity, Inflation-Indexed',\n",
       " 'Market Yield on U.S. Treasury Securities at 30-Year Constant Maturity, Inflation-Indexed',\n",
       " 'Market Yield on U.S. Treasury Securities at 5-Year Constant Maturity, Inflation-Indexed',\n",
       " 'Market Yield on U.S. Treasury Securities at 7-Year Constant Maturity, Inflation-Indexed',\n",
       " 'Market Yield on U.S. Treasury Securities at 1-Year Constant Maturity',\n",
       " 'Market Yield on U.S. Treasury Securities at 10-Year Constant Maturity',\n",
       " 'Market Yield on U.S. Treasury Securities at 1-Month Constant Maturity',\n",
       " 'Market Yield on U.S. Treasury Securities at 2-Year Constant Maturity',\n",
       " 'Market Yield on U.S. Treasury Securities at 20-Year Constant Maturity',\n",
       " 'Market Yield on U.S. Treasury Securities at 3-Year Constant Maturity',\n",
       " 'Market Yield on U.S. Treasury Securities at 30-Year Constant Maturity',\n",
       " 'Market Yield on U.S. Treasury Securities at 3-Month Constant Maturity',\n",
       " 'Market Yield on U.S. Treasury Securities at 5-Year Constant Maturity',\n",
       " 'Market Yield on U.S. Treasury Securities at 6-Month Constant Maturity',\n",
       " 'Market Yield on U.S. Treasury Securities at 7-Year Constant Maturity',\n",
       " 'Market Yield on U.S. Treasury Securities at 10-Year Constant Maturity, Inflation-Indexed',\n",
       " 'Market Yield on U.S. Treasury Securities at 20-Year Constant Maturity, Inflation-Indexed',\n",
       " 'Market Yield on U.S. Treasury Securities at 30-Year Constant Maturity, Inflation-Indexed',\n",
       " 'Market Yield on U.S. Treasury Securities at 5-Year Constant Maturity, Inflation-Indexed',\n",
       " 'Market Yield on U.S. Treasury Securities at 7-Year Constant Maturity, Inflation-Indexed',\n",
       " 'Market Yield on U.S. Treasury Securities at 1-Year Constant Maturity',\n",
       " 'Market Yield on U.S. Treasury Securities at 10-Year Constant Maturity',\n",
       " 'Market Yield on U.S. Treasury Securities at 1-Month Constant Maturity',\n",
       " 'Market Yield on U.S. Treasury Securities at 2-Year Constant Maturity',\n",
       " 'Market Yield on U.S. Treasury Securities at 20-Year Constant Maturity',\n",
       " 'Market Yield on U.S. Treasury Securities at 3-Year Constant Maturity',\n",
       " 'Market Yield on U.S. Treasury Securities at 30-Year Constant Maturity',\n",
       " 'Market Yield on U.S. Treasury Securities at 3-Month Constant Maturity',\n",
       " 'Market Yield on U.S. Treasury Securities at 5-Year Constant Maturity',\n",
       " 'Market Yield on U.S. Treasury Securities at 6-Month Constant Maturity',\n",
       " 'Market Yield on U.S. Treasury Securities at 7-Year Constant Maturity',\n",
       " 'Market Yield on U.S. Treasury Securities at 10-Year Constant Maturity, Inflation-Indexed',\n",
       " 'Market Yield on U.S. Treasury Securities at 20-Year Constant Maturity, Inflation-Indexed',\n",
       " 'Market Yield on U.S. Treasury Securities at 30-Year Constant Maturity, Inflation-Indexed',\n",
       " 'Market Yield on U.S. Treasury Securities at 5-Year Constant Maturity, Inflation-Indexed',\n",
       " 'Market Yield on U.S. Treasury Securities at 7-Year Constant Maturity, Inflation-Indexed',\n",
       " 'Market Yield on U.S. Treasury Securities at 10-Year Constant Maturity',\n",
       " 'Market Yield on U.S. Treasury Securities at 1-Month Constant Maturity',\n",
       " 'Market Yield on U.S. Treasury Securities at 1-Year Constant Maturity',\n",
       " 'Market Yield on U.S. Treasury Securities at 20-Year Constant Maturity',\n",
       " 'Market Yield on U.S. Treasury Securities at 2-Year Constant Maturity',\n",
       " 'Market Yield on U.S. Treasury Securities at 30-Year Constant Maturity',\n",
       " 'Market Yield on U.S. Treasury Securities at 3-Month Constant Maturity',\n",
       " 'Market Yield on U.S. Treasury Securities at 3-Year Constant Maturity',\n",
       " 'Market Yield on U.S. Treasury Securities at 5-Year Constant Maturity',\n",
       " 'Market Yield on U.S. Treasury Securities at 6-Month Constant Maturity',\n",
       " 'Market Yield on U.S. Treasury Securities at 7-Year Constant Maturity']"
      ]
     },
     "execution_count": 7,
     "metadata": {},
     "output_type": "execute_result"
    }
   ],
   "source": [
    "# All series names/titles for a child_id\n",
    "# Available series for \"Treasury Constant Maturity\" using child id 115\n",
    "category_32991_master_dict['series_title']['115']"
   ]
  },
  {
   "cell_type": "code",
   "execution_count": 8,
   "id": "7b429946-5dd2-40e4-9251-489b6784ff75",
   "metadata": {},
   "outputs": [
    {
     "name": "stdout",
     "output_type": "stream",
     "text": [
      "Market Yield on U.S. Treasury Securities at 10-Year Constant Maturity, Inflation-Indexed\n"
     ]
    }
   ],
   "source": [
    "# Series title for the first distinct series\n",
    "print(category_32991_master_dict['series_title']['115'][0])"
   ]
  },
  {
   "cell_type": "code",
   "execution_count": 9,
   "id": "34e9e7c1-1320-40c7-99e5-54a05b24d6fc",
   "metadata": {},
   "outputs": [
    {
     "name": "stdout",
     "output_type": "stream",
     "text": [
      "['DFII10', 'DFII20', 'DFII30', 'DFII5', 'DFII7', 'DGS1', 'DGS10', 'DGS1MO', 'DGS2', 'DGS20', 'DGS3', 'DGS30', 'DGS3MO', 'DGS5', 'DGS6MO', 'DGS7', 'FII10', 'FII20', 'FII30', 'FII5', 'FII7', 'GS1', 'GS10', 'GS1M', 'GS2', 'GS20', 'GS3', 'GS30', 'GS3M', 'GS5', 'GS6M', 'GS7', 'WFII10', 'WFII20', 'WFII30', 'WFII5', 'WFII7', 'WGS10YR', 'WGS1MO', 'WGS1YR', 'WGS20YR', 'WGS2YR', 'WGS30YR', 'WGS3MO', 'WGS3YR', 'WGS5YR', 'WGS6MO', 'WGS7YR']\n"
     ]
    }
   ],
   "source": [
    "# Series ids that will be used to call time series data from FRED\n",
    "print(category_32991_master_dict['series_id']['115'])"
   ]
  },
  {
   "cell_type": "code",
   "execution_count": 10,
   "id": "0e95a809-d1ce-4e5f-8355-4a3351e2d276",
   "metadata": {},
   "outputs": [
    {
     "data": {
      "text/plain": [
       "'For further information regarding treasury constant maturity data, please refer to the Board of Governors ( http://www.federalreserve.gov/releases/h15/current/h15.pdf) and the Treasury (http://www.treasury.gov/resource-center/data-chart-center/interest-rates/Pages/yieldmethod.aspx).'"
      ]
     },
     "execution_count": 10,
     "metadata": {},
     "output_type": "execute_result"
    }
   ],
   "source": [
    "# FRED notes relating to the time series\n",
    "category_32991_master_dict['series_notes']['115'][0]"
   ]
  },
  {
   "cell_type": "code",
   "execution_count": 11,
   "id": "9ac99c82-bed6-4943-a3c9-baa1f3a4da1e",
   "metadata": {},
   "outputs": [
    {
     "name": "stdout",
     "output_type": "stream",
     "text": [
      "Daily\n"
     ]
    }
   ],
   "source": [
    "# Series data frequency\n",
    "print(category_32991_master_dict['series_frequency']['115'][0])"
   ]
  },
  {
   "cell_type": "code",
   "execution_count": 12,
   "id": "de47dab0-850d-4376-9114-765e10583b05",
   "metadata": {},
   "outputs": [],
   "source": [
    "# Complete dictionary\n",
    "#category_32991_master_dict"
   ]
  },
  {
   "cell_type": "code",
   "execution_count": 13,
   "id": "6cd09b2a-c7a8-4e9c-bc20-0764c132ed06",
   "metadata": {},
   "outputs": [
    {
     "name": "stdout",
     "output_type": "stream",
     "text": [
      "['DFII10', 'DFII20', 'DFII30', 'DFII5', 'DFII7', 'DGS1', 'DGS10', 'DGS1MO', 'DGS2', 'DGS20', 'DGS3', 'DGS30', 'DGS3MO', 'DGS5', 'DGS6MO', 'DGS7', 'FII10', 'FII20', 'FII30', 'FII5', 'FII7', 'GS1', 'GS10', 'GS1M', 'GS2', 'GS20', 'GS3', 'GS30', 'GS3M', 'GS5', 'GS6M', 'GS7', 'WFII10', 'WFII20', 'WFII30', 'WFII5', 'WFII7', 'WGS10YR', 'WGS1MO', 'WGS1YR', 'WGS20YR', 'WGS2YR', 'WGS30YR', 'WGS3MO', 'WGS3YR', 'WGS5YR', 'WGS6MO', 'WGS7YR']\n"
     ]
    }
   ],
   "source": [
    "# Construct a list of series ids to call times series data from FRED\n",
    "# Series id that will be used to call time series data from FRED\n",
    "series_call_list = category_32991_master_dict['series_id']['115']\n",
    "print(series_call_list)"
   ]
  },
  {
   "cell_type": "code",
   "execution_count": 14,
   "id": "f5a8ac87-c8f4-4d35-a6c1-19530433b471",
   "metadata": {},
   "outputs": [],
   "source": [
    "# Additional code can now be written to call series data from series end point\n",
    "# https://fred.stlouisfed.org/docs/api/fred/\n",
    "# user must request an API key from FRED"
   ]
  }
 ],
 "metadata": {
  "kernelspec": {
   "display_name": "Python 3 (ipykernel)",
   "language": "python",
   "name": "python3"
  },
  "language_info": {
   "codemirror_mode": {
    "name": "ipython",
    "version": 3
   },
   "file_extension": ".py",
   "mimetype": "text/x-python",
   "name": "python",
   "nbconvert_exporter": "python",
   "pygments_lexer": "ipython3",
   "version": "3.7.10"
  }
 },
 "nbformat": 4,
 "nbformat_minor": 5
}
