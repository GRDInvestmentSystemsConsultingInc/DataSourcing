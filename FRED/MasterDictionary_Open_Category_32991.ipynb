{
 "cells": [
  {
   "cell_type": "code",
   "execution_count": null,
   "id": "2fce2b86-40e5-4dd2-863f-28d145ea970f",
   "metadata": {},
   "outputs": [],
   "source": [
    "# Import libraries\n",
    "import pandas as pd\n",
    "from pathlib import Path\n",
    "import json"
   ]
  },
  {
   "cell_type": "code",
   "execution_count": null,
   "id": "799f8eea-2507-4252-ba3d-7987a207d91b",
   "metadata": {},
   "outputs": [],
   "source": [
    "# Construct a data frame for the parent-child relationships\n",
    "# This source file was constructed via other code\n",
    "# Using child_id = 115 in further code examples\n",
    "fl_path = Path('AutoOutputFiles/Category32991/config_files/relationships.csv')\n",
    "df_category_32991 = pd.read_csv(fl_path, index_col='child_id')\n",
    "df_category_32991.head(25)"
   ]
  },
  {
   "cell_type": "code",
   "execution_count": null,
   "id": "b0a9799b-d129-46f5-8c5c-f89a2448b889",
   "metadata": {},
   "outputs": [],
   "source": [
    "fl_nm = 'fred_master_dictionary_32991.json'\n",
    "fl_path = Path(fl_nm)\n",
    "\n",
    "with open(fl_path) as json_file:\n",
    "    category_32991_master_dict = json.load(json_file)"
   ]
  },
  {
   "cell_type": "code",
   "execution_count": null,
   "id": "37f304d2-938c-4b43-b902-5b00a1cffb22",
   "metadata": {},
   "outputs": [],
   "source": [
    "# All series data names/titles\n",
    "#category_32991_master_dict['series_title']"
   ]
  },
  {
   "cell_type": "code",
   "execution_count": null,
   "id": "53d318f8-2225-4a35-9c57-32dd5f4dc75e",
   "metadata": {},
   "outputs": [],
   "source": [
    "# All series names/titles for a child_id\n",
    "# Available series for \"Treasury Constant Maturity\"\n",
    "category_32991_master_dict['series_title']['115']"
   ]
  },
  {
   "cell_type": "code",
   "execution_count": null,
   "id": "7b429946-5dd2-40e4-9251-489b6784ff75",
   "metadata": {},
   "outputs": [],
   "source": [
    "# Series title for the first distinct series\n",
    "category_32991_master_dict['series_title']['115'][0]"
   ]
  },
  {
   "cell_type": "code",
   "execution_count": null,
   "id": "34e9e7c1-1320-40c7-99e5-54a05b24d6fc",
   "metadata": {},
   "outputs": [],
   "source": [
    "# Series id that will be used to call time series data from FRED\n",
    "category_32991_master_dict['series_id']['115'][0]"
   ]
  },
  {
   "cell_type": "code",
   "execution_count": null,
   "id": "0e95a809-d1ce-4e5f-8355-4a3351e2d276",
   "metadata": {},
   "outputs": [],
   "source": [
    "# FRED notes relating to the time series\n",
    "category_32991_master_dict['series_notes']['115'][0]"
   ]
  },
  {
   "cell_type": "code",
   "execution_count": null,
   "id": "9ac99c82-bed6-4943-a3c9-baa1f3a4da1e",
   "metadata": {},
   "outputs": [],
   "source": [
    "# Series data frequency\n",
    "category_32991_master_dict['series_frequency']['115'][0]"
   ]
  },
  {
   "cell_type": "code",
   "execution_count": null,
   "id": "de47dab0-850d-4376-9114-765e10583b05",
   "metadata": {},
   "outputs": [],
   "source": [
    "# Complete dictionary\n",
    "#category_32991_master_dict"
   ]
  }
 ],
 "metadata": {
  "kernelspec": {
   "display_name": "Python 3 (ipykernel)",
   "language": "python",
   "name": "python3"
  },
  "language_info": {
   "codemirror_mode": {
    "name": "ipython",
    "version": 3
   },
   "file_extension": ".py",
   "mimetype": "text/x-python",
   "name": "python",
   "nbconvert_exporter": "python",
   "pygments_lexer": "ipython3",
   "version": "3.7.10"
  }
 },
 "nbformat": 4,
 "nbformat_minor": 5
}
